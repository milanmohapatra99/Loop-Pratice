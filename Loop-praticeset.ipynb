{
 "cells": [
  {
   "cell_type": "code",
   "execution_count": 2,
   "id": "874ab772",
   "metadata": {},
   "outputs": [
    {
     "name": "stdout",
     "output_type": "stream",
     "text": [
      "1\n",
      "2\n",
      "3\n",
      "4\n",
      "5\n",
      "6\n",
      "7\n",
      "8\n",
      "9\n",
      "10\n",
      "11\n",
      "12\n",
      "13\n",
      "14\n",
      "15\n",
      "16\n",
      "17\n",
      "18\n",
      "19\n",
      "20\n",
      "21\n",
      "22\n",
      "23\n",
      "24\n",
      "25\n",
      "26\n",
      "27\n",
      "28\n",
      "29\n",
      "30\n",
      "31\n",
      "32\n",
      "33\n",
      "34\n",
      "35\n",
      "36\n",
      "37\n",
      "38\n",
      "39\n",
      "40\n",
      "41\n",
      "42\n",
      "43\n",
      "44\n",
      "45\n",
      "46\n",
      "47\n",
      "48\n",
      "49\n",
      "50\n"
     ]
    }
   ],
   "source": [
    "#w.a.p to print 1 to 50 using while loop\n",
    "i=1\n",
    "while i<=50:\n",
    "    print(i)\n",
    "    i = i + 1"
   ]
  },
  {
   "cell_type": "code",
   "execution_count": 3,
   "id": "0ef118a6",
   "metadata": {},
   "outputs": [
    {
     "name": "stdout",
     "output_type": "stream",
     "text": [
      "Milan\n",
      "Milan\n",
      "Milan\n",
      "Milan\n",
      "Milan\n"
     ]
    }
   ],
   "source": [
    "#w.a.p to print your name 5 times\n",
    "i=0\n",
    "while i<5:\n",
    "    print(\"Milan\")\n",
    "    i=i+1"
   ]
  },
  {
   "cell_type": "code",
   "execution_count": 4,
   "id": "84262f49",
   "metadata": {},
   "outputs": [
    {
     "name": "stdout",
     "output_type": "stream",
     "text": [
      "grapes\n",
      "apple\n",
      "orange\n",
      "mango\n"
     ]
    }
   ],
   "source": [
    "#w.a.p to print the content of a list using while loop\n",
    "fruits=['grapes','apple','orange','mango']\n",
    "i=0\n",
    "while i<len(fruits):\n",
    "    print(fruits[i])\n",
    "    i = i + 1"
   ]
  },
  {
   "cell_type": "code",
   "execution_count": 5,
   "id": "50d8c0c7",
   "metadata": {},
   "outputs": [
    {
     "name": "stdout",
     "output_type": "stream",
     "text": [
      "-7\n"
     ]
    }
   ],
   "source": [
    "given_list=[7, 5, 4, 4, 3, 1, -2, -3, 35, -7]\n",
    "total1 = 0\n",
    "j = len(given_list)-1\n",
    "while given_list[j]< 0:\n",
    "    total1 += given_list[j]\n",
    "    j -= 1\n",
    "print(total1)    \n"
   ]
  },
  {
   "cell_type": "code",
   "execution_count": 6,
   "id": "e45629ba",
   "metadata": {},
   "outputs": [
    {
     "name": "stdout",
     "output_type": "stream",
     "text": [
      "10\n",
      "9\n",
      "8\n",
      "7\n",
      "6\n",
      "5\n",
      "4\n",
      "3\n",
      "2\n",
      "1\n"
     ]
    }
   ],
   "source": [
    "#w.a.p to print 10-1 natural numbers\n",
    "i = 10\n",
    "while(i>=1):\n",
    "    print(i)\n",
    "    i = i - 1"
   ]
  },
  {
   "cell_type": "code",
   "execution_count": 7,
   "id": "fee6f69c",
   "metadata": {},
   "outputs": [
    {
     "name": "stdout",
     "output_type": "stream",
     "text": [
      "55\n"
     ]
    }
   ],
   "source": [
    "#w.a.p to display sum of all elements from 1-10\n",
    "sum = 0\n",
    "n = 1\n",
    "while n<=10 :\n",
    "    sum = sum + n\n",
    "    n = n+1\n",
    "print(sum)"
   ]
  },
  {
   "cell_type": "code",
   "execution_count": null,
   "id": "5c8e1ea4",
   "metadata": {},
   "outputs": [],
   "source": [
    "#w.a.p to add all even nos from 1-20\n",
    " i = 1\n",
    "sum = 0\n",
    "while(i<=20):\n",
    "    if(i % 2 == 0):\n",
    "        sum = sum+i\n",
    "        i = i + 1\n",
    "        \n",
    "print(sum)   "
   ]
  },
  {
   "cell_type": "code",
   "execution_count": null,
   "id": "ee8218db",
   "metadata": {},
   "outputs": [],
   "source": [
    "#w.a.p to multiply 1-n numbers\n",
    "i = 1\n",
    "mul = 1\n",
    "n = int(input(\"Enter numbers\"))\n",
    "while i<=n :\n",
    "    mul = mul * i\n",
    "    i = i +1\n",
    "print(mul)    "
   ]
  },
  {
   "cell_type": "code",
   "execution_count": null,
   "id": "8d555a41",
   "metadata": {},
   "outputs": [],
   "source": []
  }
 ],
 "metadata": {
  "kernelspec": {
   "display_name": "Python 3 (ipykernel)",
   "language": "python",
   "name": "python3"
  },
  "language_info": {
   "codemirror_mode": {
    "name": "ipython",
    "version": 3
   },
   "file_extension": ".py",
   "mimetype": "text/x-python",
   "name": "python",
   "nbconvert_exporter": "python",
   "pygments_lexer": "ipython3",
   "version": "3.9.7"
  }
 },
 "nbformat": 4,
 "nbformat_minor": 5
}
